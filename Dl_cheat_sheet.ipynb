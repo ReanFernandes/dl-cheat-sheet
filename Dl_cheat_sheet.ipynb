{
 "cells": [
  {
   "cell_type": "code",
   "execution_count": 106,
   "metadata": {},
   "outputs": [],
   "source": [
    "import numpy as np\n",
    "import matplotlib.pyplot as plt\n",
    "import math\n"
   ]
  },
  {
   "cell_type": "markdown",
   "metadata": {},
   "source": [
    "<h1>Chapter 2: Logistic regression / MLPs </h1>"
   ]
  },
  {
   "cell_type": "markdown",
   "metadata": {},
   "source": [
    "<h5>Logistic regression - Cross entropy loss </h5>\n",
    "memory complexity of eqn : O(N * d^2)"
   ]
  },
  {
   "cell_type": "code",
   "execution_count": 107,
   "metadata": {},
   "outputs": [
    {
     "name": "stdout",
     "output_type": "stream",
     "text": [
      "cross_entropy_loss =  0.115\n"
     ]
    }
   ],
   "source": [
    "def cross_entropy_loss( y_true, y_pred ):\n",
    "\n",
    "    # Calculate cross-entropy loss\n",
    "    loss = -np.sum(y_true * np.log(y_pred + 1e-15) + (1 - y_true) * np.log(1 - y_pred + 1e-15))\n",
    "    return loss\n",
    "\n",
    "\n",
    "y_true = np.array([0, 1, 0])\n",
    "y_pred = np.array([ 0.01, 1, 0.1])\n",
    "\n",
    "print( \"cross_entropy_loss = \", np.round(cross_entropy_loss( y_true, y_pred ), 3) )\n",
    "\n",
    "\n",
    "\n"
   ]
  },
  {
   "cell_type": "markdown",
   "metadata": {},
   "source": [
    "<h5> Multi Layer Perceptron</h5>\n"
   ]
  },
  {
   "cell_type": "code",
   "execution_count": null,
   "metadata": {},
   "outputs": [],
   "source": []
  },
  {
   "cell_type": "markdown",
   "metadata": {},
   "source": [
    "<h3><span style=\"color:yellow;\">Attention Calculator</span> </h3>"
   ]
  },
  {
   "cell_type": "code",
   "execution_count": 108,
   "metadata": {},
   "outputs": [
    {
     "name": "stdout",
     "output_type": "stream",
     "text": [
      "Input:\n",
      "[[1 1]\n",
      " [0 0]\n",
      " [1 1]]\n",
      "\n",
      "Query:\n",
      "[[2.]\n",
      " [0.]\n",
      " [2.]]\n",
      "\n",
      "Key:\n",
      "[[2.]\n",
      " [0.]\n",
      " [2.]]\n",
      "\n",
      "Value:\n",
      "[[1.]\n",
      " [0.]\n",
      " [1.]]\n",
      "\n",
      "Attention Scores:\n",
      "[[4. 0. 4.]\n",
      " [0. 0. 0.]\n",
      " [4. 0. 4.]]\n",
      "\n",
      "Attention Weights:\n",
      "[[0.5  0.01 0.5 ]\n",
      " [0.33 0.33 0.33]\n",
      " [0.5  0.01 0.5 ]]\n",
      "\n",
      "Context Vector:\n",
      "[[0.99]\n",
      " [0.67]\n",
      " [0.99]]\n",
      "\n",
      "Output:\n",
      "[[0.5  0.5 ]\n",
      " [0.33 0.33]\n",
      " [0.5  0.5 ]]\n"
     ]
    }
   ],
   "source": [
    "\n",
    "import numpy as np\n",
    "\n",
    "# Given values (example values)\n",
    "wq = np.array([[0.0], [2.0]])\n",
    "wk = np.array([[2.0], [0.0]])\n",
    "wv = np.array([[0.5], [0.5]])\n",
    "wo = np.array([[0.5, 0.5]])\n",
    "\n",
    "x = np.array([[1, 1], [0, 0], [1, 1]])\n",
    "\n",
    "# Calculating self-attention\n",
    "q = np.dot(x, wq)  # Query\n",
    "k = np.dot(x, wk)  # Key\n",
    "v = np.dot(x, wv)  # Value\n",
    "\n",
    "# Compute attention scores (unnormalized)\n",
    "attention_scores = np.dot(q, k.T)  # Shape: (sequence_length, sequence_length)\n",
    "attention_scores /= np.sqrt(wq.shape[1])  # Normalizing by the square root of the dimension\n",
    "\n",
    "# Apply softmax to get attention weights\n",
    "attention_weights = np.exp(attention_scores) / np.sum(np.exp(attention_scores), axis=1, keepdims=True)\n",
    "\n",
    "# Calculate the context vector using attention weights and values\n",
    "context_vector = np.dot(attention_weights, v)\n",
    "\n",
    "# Calculate the final output using the output weights\n",
    "output = np.dot(context_vector, wo)\n",
    "\n",
    "print(\"Input:\")\n",
    "print(x)\n",
    "print(\"\\nQuery:\")\n",
    "print(q)\n",
    "print(\"\\nKey:\")\n",
    "print(k)\n",
    "print(\"\\nValue:\")\n",
    "print(v)\n",
    "print(\"\\nAttention Scores:\")\n",
    "print(np.round(attention_scores,2))\n",
    "print(\"\\nAttention Weights:\")\n",
    "print( np.round(attention_weights,2))\n",
    "print(\"\\nContext Vector:\")\n",
    "print(np.round(context_vector,2))\n",
    "print(\"\\nOutput:\")\n",
    "print(np.round(output,2))\n"
   ]
  },
  {
   "cell_type": "markdown",
   "metadata": {},
   "source": [
    "<h1> Parameter Number Calculator </h1> "
   ]
  },
  {
   "cell_type": "markdown",
   "metadata": {},
   "source": [
    "<h3><span style=\"color:yellow;\">MLP params</span> </h3>"
   ]
  },
  {
   "cell_type": "code",
   "execution_count": 109,
   "metadata": {},
   "outputs": [
    {
     "name": "stdout",
     "output_type": "stream",
     "text": [
      "Number of trainable mlp parameteres : 330\n"
     ]
    }
   ],
   "source": [
    "def mlp_params(layer_sizes):\n",
    "    params = 0\n",
    "    for i in range(len(layer_sizes) - 1):\n",
    "        params += (layer_sizes[i] * layer_sizes[i+1]) + layer_sizes[i+1]\n",
    "    return params\n",
    "\n",
    "layer_sizes = [ 5, 20, 10]\n",
    "print(\"Number of trainable mlp parameteres :\",mlp_params(layer_sizes))"
   ]
  },
  {
   "cell_type": "markdown",
   "metadata": {},
   "source": [
    "<h3> <span style=\"color:yellow;\">Batch Norm params</span></h3>"
   ]
  },
  {
   "cell_type": "code",
   "execution_count": 110,
   "metadata": {},
   "outputs": [
    {
     "name": "stdout",
     "output_type": "stream",
     "text": [
      "Number of trainable parameters for CNN : 60\n"
     ]
    }
   ],
   "source": [
    "def batch_norm_params(input_dimension, network_type):\n",
    "    # Function to calculate number of trainable parameters in batch normalization layer\n",
    "    # Input: input_dimension: number of input channels for cnn, and number of neurons for FC\n",
    "    #        network_type: CNN or Fully Connected\n",
    "    # Output: number of trainable parameters in batch normalization layer\n",
    "    if network_type == 'CNN':\n",
    "        return 2*input_dimension\n",
    "    elif network_type == 'FC':\n",
    "        return 2*input_dimension\n",
    "\n",
    "input_dimension = 30 # number of input channels for cnn, and number of neurons for FC\n",
    "network_type = 'CNN'\n",
    "print(\"Number of trainable parameters for\", network_type, \":\", batch_norm_params(input_dimension, network_type))"
   ]
  },
  {
   "cell_type": "markdown",
   "metadata": {},
   "source": [
    "<h3> <span style=\"color:yellow;\">Layer Norm params</span></h3>"
   ]
  },
  {
   "cell_type": "code",
   "execution_count": 111,
   "metadata": {},
   "outputs": [
    {
     "name": "stdout",
     "output_type": "stream",
     "text": [
      "Number of trainable parameters for CNN : 180\n"
     ]
    }
   ],
   "source": [
    "def layer_norm_params(input_dimension, spatial_dimension=None, network_type='FC'):\n",
    "    \"\"\"\n",
    "    Function to calculate number of trainable parameters in layer normalization layer\n",
    "    \n",
    "    Inputs:\n",
    "    - input_dimension: number of input channels or neurons\n",
    "    - spatial_dimension: tuple (height, width) for spatial dimensions in CNN. Not required for FC.\n",
    "    - network_type: 'CNN' or 'FC'\n",
    "    \n",
    "    Output: number of trainable parameters in layer normalization layer\n",
    "    \"\"\"\n",
    "    \n",
    "    if network_type == 'CNN':\n",
    "        if spatial_dimension is None:\n",
    "            raise ValueError(\"For CNN, spatial_dimension (height, width) must be provided\")\n",
    "        height, width = spatial_dimension\n",
    "        return 2 * input_dimension * height * width\n",
    "    elif network_type == 'FC':\n",
    "        return 2 * input_dimension\n",
    "\n",
    "input_dimension = 10  # Number of input channels to ln layer\n",
    "spatial_dimension = (3, 3)  # Assuming a spatial size of 32x32 for CNN\n",
    "network_type = 'CNN'\n",
    "print(\"Number of trainable parameters for\", network_type, \":\", layer_norm_params(input_dimension, spatial_dimension, network_type))\n"
   ]
  },
  {
   "cell_type": "markdown",
   "metadata": {},
   "source": [
    "<h3> <span style=\"color:yellow;\">Recurrent network params</span></h3>"
   ]
  },
  {
   "cell_type": "code",
   "execution_count": 112,
   "metadata": {},
   "outputs": [
    {
     "name": "stdout",
     "output_type": "stream",
     "text": [
      "Number of trainable parameters for LSTM : 328704\n"
     ]
    }
   ],
   "source": [
    "def rnn_params(input_dim, hidden_dim, cell_type='RNN'):\n",
    "    \"\"\"\n",
    "    Function to calculate number of trainable parameters in RNN, LSTM, or GRU cell\n",
    "    \n",
    "    Inputs:\n",
    "    - input_dim: Dimensionality of input data\n",
    "    - hidden_dim: Dimensionality of hidden state\n",
    "    - cell_type: 'RNN', 'LSTM', or 'GRU'\n",
    "    \n",
    "    Output: number of trainable parameters in the specified cell\n",
    "    \"\"\"\n",
    "    \n",
    "    if cell_type == 'RNN':\n",
    "        return input_dim * hidden_dim + hidden_dim**2 + hidden_dim\n",
    "    elif cell_type == 'LSTM':\n",
    "        return 4 * (input_dim * hidden_dim + hidden_dim**2 + hidden_dim)\n",
    "    elif cell_type == 'GRU':\n",
    "        return 3 * (input_dim * hidden_dim + hidden_dim**2 + hidden_dim)\n",
    "    else:\n",
    "        raise ValueError(\"Invalid cell_type. Choose from 'RNN', 'LSTM', or 'GRU'.\")\n",
    "\n",
    "input_dim = 64 # Example input dimension\n",
    "hidden_dim = 256 # Example hidden dimension\n",
    "cell_type = 'LSTM'\n",
    "print(\"Number of trainable parameters for\", cell_type, \":\", rnn_params(input_dim, hidden_dim, cell_type))\n",
    "\n"
   ]
  },
  {
   "cell_type": "markdown",
   "metadata": {},
   "source": [
    "<h2> <span style=\"color:yellow;\">2D Filter Replacement</span></h2>\n",
    "<h4> Replace Filter A with Filter B, But maintain the same recpetive field. </h4>\n",
    "<h4> Compare the number of trainable parameters for each </h4>"
   ]
  },
  {
   "cell_type": "code",
   "execution_count": 113,
   "metadata": {},
   "outputs": [
    {
     "name": "stdout",
     "output_type": "stream",
     "text": [
      "Number of 2 x 2 filters to replace 7 x 7 filters to have the same receptive field: 3 \n",
      "Rough comparison of parameters for filter A and B: (9408, 2304)\n"
     ]
    }
   ],
   "source": [
    "def maintain_rf(filter_A_width, filter_A_height, stride_A, dilation_A, \n",
    "                filter_B_width, filter_B_height, stride_B, dilation_B):\n",
    "    RF_A_width = ((filter_A_width - 1) * dilation_A) + 1\n",
    "    RF_A_height = ((filter_A_height - 1) * dilation_A) + 1\n",
    "    \n",
    "    n = 0\n",
    "    RF_B_width = 1\n",
    "    RF_B_height = 1\n",
    "    while RF_B_width < RF_A_width or RF_B_height < RF_A_height:\n",
    "        RF_B_width = ((filter_B_width - 1) * dilation_B) + 1 + (RF_B_width - 1) * stride_B\n",
    "        RF_B_height = ((filter_B_height - 1) * dilation_B) + 1 + (RF_B_height - 1) * stride_B\n",
    "        n += 1\n",
    "    return n\n",
    "\n",
    "def compare_parameters(input_channels, output_channels, \n",
    "                       filter_A_width, filter_A_height, \n",
    "                       filter_B_width, filter_B_height, n_B):\n",
    "    params_A = input_channels * output_channels * filter_A_width * filter_A_height\n",
    "    params_B = input_channels * output_channels * filter_B_width * filter_B_height * n_B\n",
    "    return params_A, params_B\n",
    "\n",
    "# Test functions\n",
    "# print(maintain_rf(5, 7, 1, 1, 3, 3, 1, 1))  # Example: Replacing 5x5 filter with 3x3 filters\n",
    "input_channels = 3\n",
    "output_channels = 64\n",
    "\n",
    "#Original filter\n",
    "filter_A_width = 7\n",
    "filter_A_height = 7\n",
    "a_stride = 1\n",
    "a_dilation = 1\n",
    "\n",
    "#replacing filter\n",
    "filter_B_width = 2\n",
    "filter_B_height = 2\n",
    "b_stride = 1\n",
    "b_dilation = 2\n",
    "\n",
    "\n",
    "n_B = maintain_rf(filter_A_width, filter_A_height, a_stride, a_dilation, filter_B_width, filter_B_height, b_stride, b_dilation)\n",
    "print(\"Number of %d x %d filters to replace %d x %d filters to have the same receptive field: %d \" % (filter_B_width, filter_B_height, filter_A_width, filter_A_height, n_B))\n",
    "\n",
    "print(\"Rough comparison of parameters for filter A and B:\", compare_parameters(input_channels, output_channels, filter_A_width, filter_A_height, filter_B_width, filter_B_height, n_B))\n"
   ]
  },
  {
   "cell_type": "markdown",
   "metadata": {},
   "source": [
    "<h2> <span style=\"color:yellow;\">3D Filter Replacement</span></h2>\n",
    "<h4> Replace Filter A with Filter B, But maintain the same recpetive field. </h4>\n",
    "<h4> Compare the number of trainable parameters for each </h4>"
   ]
  },
  {
   "cell_type": "code",
   "execution_count": 114,
   "metadata": {},
   "outputs": [
    {
     "name": "stdout",
     "output_type": "stream",
     "text": [
      "Number of 4 x 4 x 3 filters to replace 5 x 5 x 5 filter to have the same receptive field: 4\n",
      "Rough comparison of parameters: 24000 vs 36864\n"
     ]
    }
   ],
   "source": [
    "def maintain_rf_3d(filter_A_depth, filter_A_height, filter_A_width, \n",
    "                   stride_A, dilation_A, \n",
    "                   filter_B_depth, filter_B_height, filter_B_width, \n",
    "                   stride_B, dilation_B):\n",
    "    RF_A_depth = ((filter_A_depth - 1) * dilation_A) + 1\n",
    "    RF_A_height = ((filter_A_height - 1) * dilation_A) + 1\n",
    "    RF_A_width = ((filter_A_width - 1) * dilation_A) + 1\n",
    "    \n",
    "    n = 0\n",
    "    RF_B_depth = 1\n",
    "    RF_B_height = 1\n",
    "    RF_B_width = 1\n",
    "    \n",
    "    while RF_B_depth < RF_A_depth or RF_B_height < RF_A_height or RF_B_width < RF_A_width:\n",
    "        RF_B_depth = ((filter_B_depth - 1) * dilation_B) + 1 + (RF_B_depth - 1) * stride_B\n",
    "        RF_B_height = ((filter_B_height - 1) * dilation_B) + 1 + (RF_B_height - 1) * stride_B\n",
    "        RF_B_width = ((filter_B_width - 1) * dilation_B) + 1 + (RF_B_width - 1) * stride_B\n",
    "        n += 1\n",
    "    return n\n",
    "\n",
    "def compare_parameters_3d(input_channels, output_channels, \n",
    "                          filter_A_depth, filter_A_height, filter_A_width, \n",
    "                          filter_B_depth, filter_B_height, filter_B_width, \n",
    "                          n_B):\n",
    "    params_A = input_channels * output_channels * filter_A_depth * filter_A_height * filter_A_width\n",
    "    params_B = input_channels * output_channels * filter_B_depth * filter_B_height * filter_B_width * n_B\n",
    "    return params_A, params_B\n",
    "\n",
    "# Test functions\n",
    "\n",
    "input_channels = 3\n",
    "output_channels = 64\n",
    "\n",
    "# Original filter\n",
    "filter_A_depth = 5\n",
    "filter_A_height = 5\n",
    "filter_A_width = 5\n",
    "a_stride = 2\n",
    "a_dilation = 4\n",
    "# filter that will replace the original\n",
    "filter_B_depth = 4\n",
    "filter_B_height = 4\n",
    "filter_B_width = 3\n",
    "b_stride = 1\n",
    "b_dilation = 2\n",
    "n_B = maintain_rf_3d(filter_A_depth, filter_A_height, filter_A_width, \n",
    "                     a_stride, a_dilation, filter_B_depth, filter_B_height, filter_B_width, \n",
    "                     b_stride, b_dilation)\n",
    "print(\"Number of %d x %d x %d filters to replace %d x %d x %d filter to have the same receptive field: %d\" % (filter_B_depth, filter_B_height, filter_B_width, filter_A_depth, filter_A_height, filter_A_width, n_B))\n",
    "print(\"Rough comparison of parameters: %d vs %d\" % compare_parameters_3d(input_channels, output_channels,\n",
    "                                                                         filter_A_depth, filter_A_height, filter_A_width,                                                                   \n",
    "                                                                         filter_B_depth, filter_B_height, filter_B_width,\n",
    "                                                                         n_B))\n"
   ]
  },
  {
   "cell_type": "markdown",
   "metadata": {},
   "source": [
    "<h2> <span style=\"color:yellow;\">Output Dimensions and Number of multiplications for CNN </span></h2>\n",
    "<h4>2D CNN </h4>\n",
    "\n"
   ]
  },
  {
   "cell_type": "code",
   "execution_count": 115,
   "metadata": {},
   "outputs": [
    {
     "name": "stdout",
     "output_type": "stream",
     "text": [
      "Number of multiplications: 1,769,472\n",
      "Output size: 64 x 32 x 32\n"
     ]
    }
   ],
   "source": [
    "def cnn_multiplications_2d(H_in, W_in, C_in, C_out, K, padding, stride, dilation):\n",
    "    H_out = (H_in + 2 * padding - dilation * (K - 1) - 1) // stride + 1\n",
    "    W_out = (W_in + 2 * padding - dilation * (K - 1) - 1) // stride + 1\n",
    "    return H_out * W_out * K * K * C_in * C_out , H_out, W_out\n",
    "\n",
    "# input size\n",
    "C_in, W_in, H_in = 3, 32, 32\n",
    "\n",
    "# filter properties\n",
    "K = 3 # filter size\n",
    "C_out = 64 # number of filters\n",
    "padding = 1\n",
    "stride = 1\n",
    "dilation = 1\n",
    "\n",
    "\n",
    "num_mults, H_out, W_out = cnn_multiplications_2d(H_in, W_in, C_in, C_out, K, padding, stride, dilation)\n",
    "print(\"Number of multiplications: {:,}\".format(num_mults))\n",
    "print(\"Output size: {} x {} x {}\".format(C_out, H_out, W_out))\n"
   ]
  },
  {
   "cell_type": "markdown",
   "metadata": {},
   "source": [
    "<h4>3D CNN </h4>"
   ]
  },
  {
   "cell_type": "code",
   "execution_count": 116,
   "metadata": {},
   "outputs": [
    {
     "name": "stdout",
     "output_type": "stream",
     "text": [
      "Total multiplications:  100776960\n",
      "Size of the 3d convoluted output Channels x Depth x Height x Width: 8 x 120 x 36 x 36\n"
     ]
    }
   ],
   "source": [
    "def cnn3d_multiplications(D_in, H_in, W_in, C_in, D_k, H_k, W_k, C_out, padding, stride, dilation):\n",
    " \n",
    "    D_out = (D_in + 2 * padding - dilation * (D_k - 1) - 1) // stride + 1\n",
    "    H_out = (H_in + 2 * padding - dilation * (H_k - 1) - 1) // stride + 1\n",
    "    W_out = (W_in + 2 * padding - dilation * (W_k - 1) - 1) // stride + 1\n",
    "    \n",
    "    # Multiplications per output element\n",
    "    mults_per_element = D_k * H_k * W_k * C_in\n",
    "    \n",
    "    # Total multiplications\n",
    "    total_mults = mults_per_element * D_out * H_out * W_out * C_out\n",
    "    \n",
    "    return total_mults , D_out, H_out, W_out\n",
    "\n",
    "# Example Usage\n",
    "D_in, H_in, W_in = 120, 36,36  # Example input dimensions (depth, height, width)\n",
    "C_in = 3  # Number of input channels (e.g., grayscale)\n",
    "D_k, H_k, W_k = 3, 3, 3  # 3D Kernel size\n",
    "C_out = 8  # Number of output channels (filters)\n",
    "padding = 1\n",
    "stride = 1\n",
    "dilation = 1\n",
    "total_mults, D_out, H_out, W_out = cnn3d_multiplications(D_in, H_in, W_in, C_in, D_k, H_k, W_k, C_out, padding, stride, dilation)\n",
    "print(\"Total multiplications: \", total_mults)\n",
    "print(\"Size of the 3d convoluted output Channels x Depth x Height x Width: {} x {} x {} x {}\".format(C_out, D_out, H_out, W_out))"
   ]
  },
  {
   "cell_type": "markdown",
   "metadata": {},
   "source": [
    "<h2> <span style=\"color:yellow;\">Padding ( Valid and Same) </span></h2>\n"
   ]
  },
  {
   "cell_type": "code",
   "execution_count": 117,
   "metadata": {},
   "outputs": [
    {
     "name": "stdout",
     "output_type": "stream",
     "text": [
      "Padding for SAME: 9\n",
      "Padding for VALID: 0\n"
     ]
    }
   ],
   "source": [
    "def compute_padding(input_size, kernel_size, stride, dilation):\n",
    "    \"\"\"\n",
    "    Computes padding for 'SAME' and 'VALID' padding types.\n",
    "\n",
    "    Parameters:\n",
    "    - input_size (int): The size of the input feature map (width or height).\n",
    "    - kernel_size (int): The size of the kernel.\n",
    "    - stride (int): The stride of the convolution.\n",
    "    - dilation (int): The dilation rate of the kernel.\n",
    "\n",
    "    Returns:\n",
    "    - tuple: Padding for 'SAME' and 'VALID' (in that order).\n",
    "    \"\"\"\n",
    "    \n",
    "    # Effective kernel size after considering dilation\n",
    "    effective_kernel_size = kernel_size + (kernel_size - 1) * (dilation - 1)\n",
    "    \n",
    "    # Calculate padding\n",
    "    if (input_size % stride) == 0:\n",
    "        pad_same = max(effective_kernel_size - stride, 0)\n",
    "    else:\n",
    "        pad_same = max(effective_kernel_size - (input_size % stride), 0)\n",
    "        \n",
    "    pad_valid = 0   # VALID padding doesn't add any padding by definition\n",
    "    \n",
    "    return (pad_same, pad_valid)\n",
    "\n",
    "# Test the function\n",
    "input_size = 32 # assume square image\n",
    "kernel_size = 4\n",
    "stride = 1\n",
    "dilation = 3\n",
    "\n",
    "pad_same, pad_valid = compute_padding(input_size, kernel_size, stride, dilation)\n",
    "print(\"Padding for SAME: {}\".format(pad_same))\n",
    "print(\"Padding for VALID: {}\".format(pad_valid))"
   ]
  },
  {
   "cell_type": "markdown",
   "metadata": {},
   "source": [
    "<h2> <span style=\"color:yellow;\">Whether an Input can pass through a given CNN  </span></h2>\n"
   ]
  },
  {
   "cell_type": "code",
   "execution_count": 118,
   "metadata": {},
   "outputs": [
    {
     "name": "stdout",
     "output_type": "stream",
     "text": [
      " Current image of size 3x28x28 cannot pass through the network\n"
     ]
    }
   ],
   "source": [
    "\n",
    "\n",
    "def can_pass_network(H_in, W_in, C_in, layers, final_c, final_h, final_w):\n",
    "    for layer in layers:\n",
    "        if layer['type'] == 'conv':\n",
    "            H_in, W_in = (H_in + 2 * layer['padding'] - layer['dilation'] * (layer['K'] - 1) - 1) // layer['stride'] + 1, \\\n",
    "                         (W_in + 2 * layer['padding'] - layer['dilation'] * (layer['K'] - 1) - 1) // layer['stride'] + 1\n",
    "            C_in = layer['C_out']\n",
    "            if H_in <= 0 or W_in <= 0:\n",
    "                return False\n",
    "        elif layer['type'] == 'maxpool':\n",
    "            H_in, W_in = (H_in - layer['K']) // layer['stride'] + 1, (W_in - layer['K']) // layer['stride'] + 1\n",
    "            if H_in <= 0 or W_in <= 0:\n",
    "                return False\n",
    "\n",
    "    # Checking if final dimensions match with expected dimensions\n",
    "    return C_in == final_c and H_in == final_h and W_in == final_w\n",
    "######################## Input ########################\n",
    "\n",
    "\n",
    "# Example usage\n",
    "H_in, W_in, C_in = 28,28, 3\n",
    "\n",
    "final_c, final_h, final_w = 16, 5, 5\n",
    "\n",
    "layers = [{'type': 'conv', 'K': 5, 'padding': 0, 'stride': 1, 'dilation': 1, 'C_out': 6},\n",
    "          {'type': 'maxpool', 'K': 2, 'stride': 2},\n",
    "          {'type': 'conv', 'K': 5, 'padding': 0, 'stride': 1, 'dilation': 1, 'C_out': 16},\n",
    "          {'type': 'maxpool', 'K': 2, 'stride': 2}]\n",
    "\n",
    "\n",
    "\n",
    "######################## Output ########################\n",
    "if can_pass_network(H_in, W_in, C_in, layers, final_c, final_h, final_w):\n",
    "    print(\" Current image of size {}x{}x{} can pass through the network\".format( C_in,H_in, W_in))\n",
    "else:\n",
    "    print(\" Current image of size {}x{}x{} cannot pass through the network\".format( C_in,H_in, W_in))\n"
   ]
  },
  {
   "cell_type": "code",
   "execution_count": null,
   "metadata": {},
   "outputs": [],
   "source": []
  }
 ],
 "metadata": {
  "kernelspec": {
   "display_name": "hf_env",
   "language": "python",
   "name": "python3"
  },
  "language_info": {
   "codemirror_mode": {
    "name": "ipython",
    "version": 3
   },
   "file_extension": ".py",
   "mimetype": "text/x-python",
   "name": "python",
   "nbconvert_exporter": "python",
   "pygments_lexer": "ipython3",
   "version": "3.8.10"
  },
  "orig_nbformat": 4
 },
 "nbformat": 4,
 "nbformat_minor": 2
}
